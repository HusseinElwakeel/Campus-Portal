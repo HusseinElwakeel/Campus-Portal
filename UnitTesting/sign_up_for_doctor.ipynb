{
 "cells": [
  {
   "cell_type": "code",
   "execution_count": 77,
   "metadata": {
    "collapsed": true
   },
   "outputs": [],
   "source": [
    "import datetime\n",
    "import time\n",
    "\n",
    "import driver as driver\n",
    "from selenium.webdriver.common.keys import Keys\n",
    "\n",
    "from selenium import webdriver\n",
    "from selenium.webdriver.chrome.options import Options\n",
    "from selenium.webdriver.chrome.service import Service\n",
    "from selenium.webdriver.common.by import By\n",
    "from webdriver_manager.chrome import ChromeDriverManager\n",
    "from tkinter import *\n",
    "from selenium.webdriver.support.ui import Select"
   ]
  },
  {
   "cell_type": "code",
   "execution_count": 78,
   "outputs": [
    {
     "name": "stderr",
     "output_type": "stream",
     "text": [
      "\n",
      "\n",
      "====== WebDriver manager ======\n",
      "Current google-chrome version is 99.0.4844\n",
      "Get LATEST chromedriver version for 99.0.4844 google-chrome\n",
      "Driver [C:\\Users\\ALjazeera\\.wdm\\drivers\\chromedriver\\win32\\99.0.4844.51\\chromedriver.exe] found in cache\n"
     ]
    }
   ],
   "source": [
    "options = Options()\n",
    "options.headless = False\n",
    "# Start Chrome WebDriver\n",
    "driver = webdriver.Chrome(service=Service(ChromeDriverManager().install()), options=options)\n",
    "driver.implicitly_wait(1)  # wait  to load the page\n",
    "driver.maximize_window()  # to max the window"
   ],
   "metadata": {
    "collapsed": false,
    "pycharm": {
     "name": "#%%\n"
    }
   }
  },
  {
   "cell_type": "code",
   "execution_count": 79,
   "outputs": [],
   "source": [
    "driver.get(r\"https://noureldin.pythonanywhere.com/campus_portal/\")\n",
    "\n",
    "time.sleep(2)"
   ],
   "metadata": {
    "collapsed": false,
    "pycharm": {
     "name": "#%%\n"
    }
   }
  },
  {
   "cell_type": "code",
   "execution_count": 80,
   "outputs": [],
   "source": [
    "login = driver.find_element(By.XPATH, '//*[@id=\"dropdown\"]')\n",
    "login.click()"
   ],
   "metadata": {
    "collapsed": false,
    "pycharm": {
     "name": "#%%\n"
    }
   }
  },
  {
   "cell_type": "code",
   "execution_count": 81,
   "outputs": [],
   "source": [
    "Doctor_Sign_up = driver.find_element(By.XPATH, '//*[@id=\"navbarCollapse\"]/ul/li[1]/ul/li[2]/a')\n",
    "Doctor_Sign_up.click()"
   ],
   "metadata": {
    "collapsed": false,
    "pycharm": {
     "name": "#%%\n"
    }
   }
  },
  {
   "cell_type": "code",
   "execution_count": 82,
   "outputs": [
    {
     "name": "stderr",
     "output_type": "stream",
     "text": [
      "C:\\Users\\ALjazeera\\AppData\\Local\\Temp\\ipykernel_15004\\1186856194.py:25: DeprecationWarning: find_element_by_* commands are deprecated. Please use find_element() instead\n",
      "  select = Select(driver.find_element_by_id('gender'))\n"
     ]
    }
   ],
   "source": [
    "\n",
    "\n",
    "\n",
    "\n",
    "First_Name = driver.find_element(By.XPATH, '//*[@id=\"first_name\"]')\n",
    "First_Name.send_keys(\"nour\")\n",
    "\n",
    "time.sleep(0.5)\n",
    "\n",
    "Last_Name = driver.find_element(By.XPATH, '//*[@id=\"last_name\"]')\n",
    "Last_Name.send_keys(\"osama\")\n",
    "\n",
    "time.sleep(0.5)\n",
    "\n",
    "# select by visible text\n",
    "# from selenium import webdriver\n",
    "# from selenium.webdriver.support.ui import Select\n",
    "#\n",
    "# driver = webdriver.Firefox()\n",
    "# driver.get('url')\n",
    "#\n",
    "# select = Select(driver.find_element_by_id('fruits01'))\n",
    "\n",
    "# select by visible text\n",
    "# select.select_by_visible_text('Banana')\n",
    "\n",
    "\n",
    "# gender=driver.find_element(By.XPATH, '//*[@id=\"form\"]/div[2]/div/select')\n",
    "select = Select(driver.find_element_by_id('gender'))\n",
    "select.select_by_visible_text('Male')\n",
    "\n",
    "# gender.click()\n",
    "\n",
    "\n",
    "user_name = driver.find_element(By.XPATH, '//*[@id=\"username\"]')\n",
    "user_name.send_keys(\"nour_osama\")\n",
    "\n",
    "time.sleep(0.5)\n",
    "\n",
    "email = driver.find_element(By.XPATH, '//*[@id=\"email\"]')\n",
    "email.send_keys(\"hussein_e90388@cic-cairo.com\")\n",
    "\n",
    "time.sleep(0.5)\n",
    "\n",
    "\n",
    "password = driver.find_element(By.XPATH, '//*[@id=\"password\"]')\n",
    "password.send_keys(\"hussein123\")  # to send the password\n",
    "\n",
    "time.sleep(0.5)\n",
    "\n",
    "\n",
    "retyped_password = driver.find_element(By.XPATH, '//*[@id=\"retyped_password\"]')\n",
    "retyped_password.send_keys(\"hussein123\")  # to send the password\n",
    "time.sleep(0.5)\n",
    "\n",
    "phone_number =driver.find_element(By.XPATH, '//*[@id=\"phone_number\"]')\n",
    "phone_number.send_keys(\"01032627482\")\n",
    "time.sleep(0.5)\n",
    "\n",
    "birthdate = driver.find_element(By.XPATH, '//*[@id=\"birthdate\"]')\n",
    "birthdate.send_keys(\"17011970\")\n",
    "time.sleep(0.5)\n",
    "\n",
    "\n",
    "degree= driver.find_element(By.XPATH, '//*[@id=\"degree\"]')\n",
    "degree.send_keys(\"PhD\")\n",
    "time.sleep(0.5)\n",
    "\n",
    "\n",
    "agreeTerms= driver.find_element(By.XPATH, '//*[@id=\"agreeTerms\"]')\n",
    "agreeTerms.click()\n",
    "time.sleep(0.5)\n",
    "#\n",
    "regester= driver.find_element(By.XPATH, '/html/body/div/div/div/div[2]/div/div/div[2]/form/div[11]/div[2]/button')\n",
    "regester.click()\n",
    "time.sleep(0.5)\n",
    "\n",
    "\n",
    "\n"
   ],
   "metadata": {
    "collapsed": false,
    "pycharm": {
     "name": "#%%\n"
    }
   }
  },
  {
   "cell_type": "code",
   "execution_count": 82,
   "outputs": [],
   "source": [],
   "metadata": {
    "collapsed": false,
    "pycharm": {
     "name": "#%%\n"
    }
   }
  }
 ],
 "metadata": {
  "kernelspec": {
   "display_name": "Python 3",
   "language": "python",
   "name": "python3"
  },
  "language_info": {
   "codemirror_mode": {
    "name": "ipython",
    "version": 2
   },
   "file_extension": ".py",
   "mimetype": "text/x-python",
   "name": "python",
   "nbconvert_exporter": "python",
   "pygments_lexer": "ipython2",
   "version": "2.7.6"
  }
 },
 "nbformat": 4,
 "nbformat_minor": 0
}