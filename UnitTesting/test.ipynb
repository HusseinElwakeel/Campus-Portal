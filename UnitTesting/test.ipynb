{
 "cells": [
  {
   "cell_type": "code",
   "execution_count": 1,
   "metadata": {
    "collapsed": true
   },
   "outputs": [],
   "source": [
    "import time\n",
    "import unittest\n",
    "\n",
    "from selenium import webdriver\n",
    "from selenium.webdriver.chrome.service import Service as ChromeService\n",
    "from selenium.webdriver.common.by import By\n",
    "from webdriver_manager.chrome import ChromeDriverManager"
   ]
  },
  {
   "cell_type": "code",
   "execution_count": 6,
   "outputs": [],
   "source": [
    "login_url = r'https://noureldin.pythonanywhere.com/campus_portal/Login'\n",
    "username = 'nour'\n",
    "email = 'theprogrammernoureldinosama@gmail.com'\n",
    "password = 'theprogrammernoureldinosama@gmail.com'"
   ],
   "metadata": {
    "collapsed": false,
    "pycharm": {
     "name": "#%%\n"
    }
   }
  },
  {
   "cell_type": "code",
   "execution_count": 7,
   "outputs": [],
   "source": [
    "class LoginTest(unittest.TestCase):\n",
    "    def setUp(self):\n",
    "        options = webdriver.ChromeOptions()\n",
    "        options.headless = False\n",
    "        # Start Chrome WebDriver\n",
    "        self.service = ChromeService(executable_path=ChromeDriverManager().install())\n",
    "        self.driver = webdriver.Chrome(service=self.service, options=options)\n",
    "        self.driver.implicitly_wait(1)  # wait  to load the page\n",
    "        self.driver.maximize_window()  # to max the window\n",
    "\n",
    "    def test_login_by_empty_fields(self):\n",
    "        self.driver.get(login_url)\n",
    "\n",
    "        self.username_field = self.driver.find_element(By.NAME, 'email')\n",
    "        self.username_field.send_keys('')\n",
    "\n",
    "        self.password_field = self.driver.find_element(By.NAME, 'password')\n",
    "        self.password_field.send_keys('')\n",
    "\n",
    "        self.login_button = self.driver.find_element(By.XPATH, '/html/body/main/form/div[2]/div[2]/button')\n",
    "        self.login_button.click()\n",
    "        self.assertEqual(login_url, self.driver.current_url)\n",
    "\n",
    "    def test_login_by_username(self):\n",
    "        self.driver.get(login_url)\n",
    "\n",
    "        self.username_field = self.driver.find_element(By.NAME, 'email')\n",
    "        self.username_field.send_keys(username)\n",
    "\n",
    "        self.password_field = self.driver.find_element(By.NAME, 'password')\n",
    "        self.password_field.send_keys(password)\n",
    "\n",
    "        self.login_button = self.driver.find_element(By.XPATH, '/html/body/main/form/div[2]/div[2]/button')\n",
    "        self.login_button.click()\n",
    "        self.assertNotEqual(login_url, self.driver.current_url)\n",
    "\n",
    "    def test_login_by_email(self):\n",
    "        self.driver.get(login_url)\n",
    "\n",
    "        self.username_field = self.driver.find_element(By.NAME, 'email')\n",
    "        self.username_field.send_keys(email)\n",
    "\n",
    "        self.password_field = self.driver.find_element(By.NAME, 'password')\n",
    "        self.password_field.send_keys(password)\n",
    "\n",
    "        self.login_button = self.driver.find_element(By.XPATH, '/html/body/main/form/div[2]/div[2]/button')\n",
    "        self.login_button.click()\n",
    "        self.assertNotEqual(login_url, self.driver.current_url)\n",
    "\n",
    "    def tearDown(self):\n",
    "        # close the browser window\n",
    "        self.driver.quit()"
   ],
   "metadata": {
    "collapsed": false,
    "pycharm": {
     "name": "#%%\n"
    }
   }
  },
  {
   "cell_type": "code",
   "execution_count": 8,
   "outputs": [
    {
     "name": "stderr",
     "output_type": "stream",
     "text": [
      "\n",
      "\n",
      "====== WebDriver manager ======\n",
      "Current google-chrome version is 99.0.4844\n",
      "Get LATEST driver version for 99.0.4844\n",
      "Driver [C:\\Users\\NourEldin\\.wdm\\drivers\\chromedriver\\win32\\99.0.4844.51\\chromedriver.exe] found in cache\n",
      ".\n",
      "\n",
      "====== WebDriver manager ======\n",
      "Current google-chrome version is 99.0.4844\n",
      "Get LATEST driver version for 99.0.4844\n",
      "Driver [C:\\Users\\NourEldin\\.wdm\\drivers\\chromedriver\\win32\\99.0.4844.51\\chromedriver.exe] found in cache\n",
      ".\n",
      "\n",
      "====== WebDriver manager ======\n",
      "Current google-chrome version is 99.0.4844\n",
      "Get LATEST driver version for 99.0.4844\n",
      "Driver [C:\\Users\\NourEldin\\.wdm\\drivers\\chromedriver\\win32\\99.0.4844.51\\chromedriver.exe] found in cache\n",
      ".\n",
      "----------------------------------------------------------------------\n",
      "Ran 3 tests in 20.179s\n",
      "\n",
      "OK\n"
     ]
    },
    {
     "data": {
      "text/plain": "<unittest.main.TestProgram at 0x2d71f58ef10>"
     },
     "execution_count": 8,
     "metadata": {},
     "output_type": "execute_result"
    }
   ],
   "source": [
    "unittest.main(argv=['first-arg-is-ignored'], exit=False)"
   ],
   "metadata": {
    "collapsed": false,
    "pycharm": {
     "name": "#%%\n"
    }
   }
  },
  {
   "cell_type": "code",
   "execution_count": null,
   "outputs": [],
   "source": [],
   "metadata": {
    "collapsed": false,
    "pycharm": {
     "name": "#%%\n"
    }
   }
  }
 ],
 "metadata": {
  "kernelspec": {
   "display_name": "Python 3",
   "language": "python",
   "name": "python3"
  },
  "language_info": {
   "codemirror_mode": {
    "name": "ipython",
    "version": 2
   },
   "file_extension": ".py",
   "mimetype": "text/x-python",
   "name": "python",
   "nbconvert_exporter": "python",
   "pygments_lexer": "ipython2",
   "version": "2.7.6"
  }
 },
 "nbformat": 4,
 "nbformat_minor": 0
}